{
 "cells": [
  {
   "cell_type": "code",
   "execution_count": 1,
   "metadata": {
    "scrolled": true
   },
   "outputs": [],
   "source": [
    "# List all files\n",
    "import os\n",
    "import re\n",
    "\n",
    "folder = os.getcwd()\n",
    "list_file=[]\n",
    "list_path=[]\n",
    "extension=[]\n",
    "for (dirpath, dirnames, filenames) in os.walk('.'):\n",
    "    for f in filenames: \n",
    "        if os.path.splitext(f)[1][1:].strip() in (\"jpg\",\"png\"):  #filter extension type\n",
    "            list_file.append(f)\n",
    "            list_path1=(folder+(str(os.path.join(dirpath,f)))[1:])\n",
    "            list_path.append(list_path1)\n",
    "            extension1 = os.path.splitext(f)[1][1:].strip() \n",
    "            extension.append(extension1)"
   ]
  },
  {
   "cell_type": "code",
   "execution_count": 2,
   "metadata": {},
   "outputs": [],
   "source": [
    "def jpeg_res(filename):\n",
    "\n",
    "   # open image for reading in binary mode\n",
    "   with open(filename,'rb') as img_file:\n",
    "\n",
    "    # height of image (in 2 bytes) is at 164th position\n",
    "    img_file.seek(163)\n",
    "\n",
    "       # read the 2 bytes\n",
    "    a = img_file.read(2)\n",
    "\n",
    "       # calculate height\n",
    "    height = (a[0] << 8) + a[1]\n",
    "\n",
    "       # next 2 bytes is width\n",
    "    a = img_file.read(2)\n",
    "\n",
    "       # calculate width\n",
    "    width = (a[0] << 8) + a[1]\n",
    "    \n",
    "    #input(width,height)\n",
    "    # print(\"The resolution of the image is\",width,\"x\",height)\n",
    "    return '{} x {}'.format(width,height)\n"
   ]
  },
  {
   "cell_type": "code",
   "execution_count": 3,
   "metadata": {},
   "outputs": [
    {
     "data": {
      "text/plain": [
       "['1178 x 659', '1045 x 1074']"
      ]
     },
     "execution_count": 3,
     "metadata": {},
     "output_type": "execute_result"
    }
   ],
   "source": [
    "size=[]\n",
    "for p in list_path:\n",
    "    size.append(jpeg_res(p))\n",
    "size"
   ]
  },
  {
   "cell_type": "code",
   "execution_count": 4,
   "metadata": {},
   "outputs": [],
   "source": [
    "import pandas as pd\n",
    "d = {'filename':list_file,'location':list_path,'extension':extension,'size': size}\n",
    "df = pd.DataFrame(d)"
   ]
  },
  {
   "cell_type": "code",
   "execution_count": 5,
   "metadata": {},
   "outputs": [],
   "source": [
    "#export to json\n",
    "import json \n",
    "result = df.to_json(orient=\"index\")\n",
    "parsed = json.loads(result)\n",
    "json_object=json.dumps(parsed, indent=4)  \n",
    "\n",
    "# Writing to sample.json \n",
    "with open(\"ouput.json\", \"w\") as outfile: \n",
    "    outfile.write(json_object) "
   ]
  }
 ],
 "metadata": {
  "kernelspec": {
   "display_name": "Python 3",
   "language": "python",
   "name": "python3"
  },
  "language_info": {
   "codemirror_mode": {
    "name": "ipython",
    "version": 3
   },
   "file_extension": ".py",
   "mimetype": "text/x-python",
   "name": "python",
   "nbconvert_exporter": "python",
   "pygments_lexer": "ipython3",
   "version": "3.7.6"
  }
 },
 "nbformat": 4,
 "nbformat_minor": 4
}
